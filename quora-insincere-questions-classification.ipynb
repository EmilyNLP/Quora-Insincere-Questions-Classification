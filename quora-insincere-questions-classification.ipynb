{
 "cells": [
  {
   "cell_type": "markdown",
   "metadata": {
    "_uuid": "0fc0998666050d889bc354233091563ca8022d3c"
   },
   "source": [
    "# Overview\n",
    "Quora is a platform that empowers people to learn from each other. On Quora, people can ask questions and connect with others who contribute unique insights and quality answers. A key challenge is to weed out insincere questions -- those founded upon false premises, or that intend to make a statement rather than look for helpful answers.\n",
    "\n",
    "* **Target**: In this competition, we will develop models that identify and flag insincere questions.\n",
    "* **Data**: The training data includes the question that was asked, and whether it was identified as insincere (target = 1). For each qid in the test set, we must predict whether the corresponding question_text is insincere (1) or not (0). \n",
    "* **Evaluation metrics**:Submissions are evaluated on F1 Score between the predicted and the observed targets."
   ]
  },
  {
   "cell_type": "markdown",
   "metadata": {
    "_uuid": "4ae26255952f50ce1ffda8fe95aad6c088132958"
   },
   "source": [
    "# Import and Clean the data\n",
    " There are 1,306,122 entries in the training set and 375,806 entries in the test set. In the training data the insincere quetions  accout for 1/10 of all the questions. "
   ]
  },
  {
   "cell_type": "code",
   "execution_count": 1,
   "metadata": {
    "_uuid": "a392690be3c8ef700188a356daa1ef19eb086a27"
   },
   "outputs": [
    {
     "data": {
      "text/html": [
       "<div>\n",
       "<style scoped>\n",
       "    .dataframe tbody tr th:only-of-type {\n",
       "        vertical-align: middle;\n",
       "    }\n",
       "\n",
       "    .dataframe tbody tr th {\n",
       "        vertical-align: top;\n",
       "    }\n",
       "\n",
       "    .dataframe thead th {\n",
       "        text-align: right;\n",
       "    }\n",
       "</style>\n",
       "<table border=\"1\" class=\"dataframe\">\n",
       "  <thead>\n",
       "    <tr style=\"text-align: right;\">\n",
       "      <th></th>\n",
       "      <th>qid</th>\n",
       "      <th>question_text</th>\n",
       "      <th>target</th>\n",
       "    </tr>\n",
       "  </thead>\n",
       "  <tbody>\n",
       "    <tr>\n",
       "      <th>394905</th>\n",
       "      <td>4d5fcc7ab896b6dde80d</td>\n",
       "      <td>What would happen if all individual minds are ...</td>\n",
       "      <td>0</td>\n",
       "    </tr>\n",
       "    <tr>\n",
       "      <th>694206</th>\n",
       "      <td>87fa0dbd94d15a482ad4</td>\n",
       "      <td>Is NCERT alone enough to score 100+ in chemistry?</td>\n",
       "      <td>0</td>\n",
       "    </tr>\n",
       "    <tr>\n",
       "      <th>78757</th>\n",
       "      <td>0f6aade84a72400dd0c8</td>\n",
       "      <td>Which are the automation colleges in Karnataka?</td>\n",
       "      <td>0</td>\n",
       "    </tr>\n",
       "    <tr>\n",
       "      <th>766006</th>\n",
       "      <td>96114e5881b0591bffef</td>\n",
       "      <td>Who do you think is going to benefit the most ...</td>\n",
       "      <td>0</td>\n",
       "    </tr>\n",
       "    <tr>\n",
       "      <th>18915</th>\n",
       "      <td>03b456e37e67ba9d504f</td>\n",
       "      <td>Why do black women cause a majority of public ...</td>\n",
       "      <td>1</td>\n",
       "    </tr>\n",
       "  </tbody>\n",
       "</table>\n",
       "</div>"
      ],
      "text/plain": [
       "                         qid  ...   target\n",
       "394905  4d5fcc7ab896b6dde80d  ...        0\n",
       "694206  87fa0dbd94d15a482ad4  ...        0\n",
       "78757   0f6aade84a72400dd0c8  ...        0\n",
       "766006  96114e5881b0591bffef  ...        0\n",
       "18915   03b456e37e67ba9d504f  ...        1\n",
       "\n",
       "[5 rows x 3 columns]"
      ]
     },
     "execution_count": 1,
     "metadata": {},
     "output_type": "execute_result"
    }
   ],
   "source": [
    "import numpy as np\n",
    "import pandas as pd\n",
    "\n",
    "train_df=pd.read_csv(\"../input/quora-insincere-questions-classification/train.csv\")\n",
    "test_df=pd.read_csv(\"../input/quora-insincere-questions-classification/test.csv\")\n",
    "train_df.sample(5)"
   ]
  },
  {
   "cell_type": "code",
   "execution_count": 2,
   "metadata": {
    "_uuid": "bc99cce9d746d1ca02756cb78d3c7d79466c5da5"
   },
   "outputs": [
    {
     "name": "stdout",
     "output_type": "stream",
     "text": [
      "<class 'pandas.core.frame.DataFrame'>\n",
      "RangeIndex: 1306122 entries, 0 to 1306121\n",
      "Data columns (total 3 columns):\n",
      "qid              1306122 non-null object\n",
      "question_text    1306122 non-null object\n",
      "target           1306122 non-null int64\n",
      "dtypes: int64(1), object(2)\n",
      "memory usage: 29.9+ MB\n"
     ]
    }
   ],
   "source": [
    "train_df.info()"
   ]
  },
  {
   "cell_type": "code",
   "execution_count": 3,
   "metadata": {
    "_uuid": "5682de87d9090f356c4a1cadd149b6accb4780dd"
   },
   "outputs": [
    {
     "data": {
      "text/plain": [
       "(array([1225312.,       0.,       0.,       0.,       0.,       0.,\n",
       "              0.,       0.,       0.,   80810.]),\n",
       " array([0. , 0.1, 0.2, 0.3, 0.4, 0.5, 0.6, 0.7, 0.8, 0.9, 1. ]),\n",
       " <a list of 10 Patch objects>)"
      ]
     },
     "execution_count": 3,
     "metadata": {},
     "output_type": "execute_result"
    },
    {
     "data": {
      "image/png": "[encoded data removed]",
      "text/plain": [
       "<Figure size 432x288 with 1 Axes>"
      ]
     },
     "metadata": {},
     "output_type": "display_data"
    }
   ],
   "source": [
    "import matplotlib.pyplot as plt\n",
    "plt.hist(train_df.target)"
   ]
  },
  {
   "cell_type": "code",
   "execution_count": 4,
   "metadata": {
    "_uuid": "8dce6997a80537c66515e6baace7a7a0f622cb01"
   },
   "outputs": [
    {
     "name": "stdout",
     "output_type": "stream",
     "text": [
      "<class 'pandas.core.frame.DataFrame'>\n",
      "RangeIndex: 375806 entries, 0 to 375805\n",
      "Data columns (total 2 columns):\n",
      "qid              375806 non-null object\n",
      "question_text    375806 non-null object\n",
      "dtypes: object(2)\n",
      "memory usage: 5.7+ MB\n"
     ]
    }
   ],
   "source": [
    "test_df.info()"
   ]
  },
  {
   "cell_type": "markdown",
   "metadata": {
    "_uuid": "f31910afa4085c816b208090a35463ce8b16870b"
   },
   "source": [
    "Replace the sepecial symbols by space, convert the string into lowercase and fill the missing values with \"_na_\""
   ]
  },
  {
   "cell_type": "code",
   "execution_count": 5,
   "metadata": {
    "_uuid": "ea19dd8f2b13e39cbe1948840f23dbc993121bf5"
   },
   "outputs": [],
   "source": [
    "puncts = [',', '.', '\"', ':', ')', '(', '-', '!', '?', '|', ';', \"'\", '$', '&', '/', '[', ']', '>', '%', '=', '#', '*', '+', '\\\\', '•',  '~', '@', '£', \n",
    " '·', '_', '{', '}', '©', '^', '®', '`',  '<', '→', '°', '€', '™', '›',  '♥', '←', '×', '§', '″', '′', 'Â', '█', '½', 'à', '…', \n",
    " '“', '★', '”', '–', '●', 'â', '►', '−', '¢', '²', '¬', '░', '¶', '↑', '±', '¿', '▾', '═', '¦', '║', '―', '¥', '▓', '—', '‹', '─', \n",
    " '▒', '：', '¼', '⊕', '▼', '▪', '†', '■', '’', '▀', '¨', '▄', '♫', '☆', 'é', '¯', '♦', '¤', '▲', 'è', '¸', '¾', 'Ã', '⋅', '‘', '∞', \n",
    " '∙', '）', '↓', '、', '│', '（', '»', '，', '♪', '╩', '╚', '³', '・', '╦', '╣', '╔', '╗', '▬', '❤', 'ï', 'Ø', '¹', '≤', '‡', '√', ]\n",
    "def clean_text(x):\n",
    "    x = str(x)\n",
    "    for punct in puncts:\n",
    "        x = x.replace(punct, f' ')\n",
    "    return x\n",
    "\n",
    "def preprocess(df,col):\n",
    "    df[col] = df[col].str.lower()\n",
    "    df[col] = df[col].apply(lambda x: clean_text(x))\n",
    "    df[col] = df[col].fillna(\"_na_\")\n",
    "    \n",
    "preprocess(train_df,\"question_text\")\n",
    "preprocess(test_df,\"question_text\")"
   ]
  },
  {
   "cell_type": "markdown",
   "metadata": {
    "_uuid": "4f377b126df21443aebfd2854a9a7347da07a774"
   },
   "source": [
    "Split the training set into train and validate set."
   ]
  },
  {
   "cell_type": "code",
   "execution_count": 6,
   "metadata": {
    "_uuid": "bccf363e39f7b9d6618efd3ba7896462116537a2"
   },
   "outputs": [],
   "source": [
    "from sklearn.model_selection import train_test_split\n",
    "train_df, val_df = train_test_split(train_df, test_size=0.1, random_state=2008)\n",
    "x_train = train_df[\"question_text\"].values\n",
    "x_val = val_df[\"question_text\"].values\n",
    "x_test = test_df[\"question_text\"].values"
   ]
  },
  {
   "cell_type": "markdown",
   "metadata": {
    "_uuid": "d5a50d0b599f0f25da704265bba3577df8c24cc1"
   },
   "source": [
    "Most of the questons have less than 200 words and the median of the length is around 70 words. Let us set the max length of the question as 80. "
   ]
  },
  {
   "cell_type": "code",
   "execution_count": 7,
   "metadata": {
    "_uuid": "53dd3bf8dd7873f3781d41c57e230821a21f288e"
   },
   "outputs": [
    {
     "data": {
      "image/png": "[encoded data removed]",
      "text/plain": [
       "<Figure size 432x288 with 1 Axes>"
      ]
     },
     "metadata": {},
     "output_type": "display_data"
    }
   ],
   "source": [
    "import matplotlib.pyplot as plt\n",
    "plt.hist([len(item) for item in x_train],bins=100)\n",
    "plt.show()"
   ]
  },
  {
   "cell_type": "markdown",
   "metadata": {
    "_uuid": "f2438c2488b4013529d86034895295de34274eff"
   },
   "source": [
    "# Tokenize the text\n",
    "\n",
    "Use  Keras to tokenzie the text,  then convert the lists of tokens into sequece. There are 185,320 unique tokens in the train text. I use the top 100,000 words as features by setting MAX_WORDS as 100,000. Since all the pretrained embeddings have  300 dimensions, I set the embedding size as 300."
   ]
  },
  {
   "cell_type": "code",
   "execution_count": 8,
   "metadata": {
    "_uuid": "c4f33e785c80ff62fa099eafb3f0adc6e0fe04c7"
   },
   "outputs": [
    {
     "name": "stderr",
     "output_type": "stream",
     "text": [
      "Using TensorFlow backend.\n"
     ]
    },
    {
     "name": "stdout",
     "output_type": "stream",
     "text": [
      "Found 185320 unique tokens.\n"
     ]
    }
   ],
   "source": [
    "from keras.preprocessing.text import Tokenizer\n",
    "from keras.preprocessing.sequence import pad_sequences\n",
    "\n",
    "MAXLEN=80 # cuts off the text after 100 words\n",
    "MAX_WORDS=100000 # consider only the top 100,000 words as features\n",
    "EMBEDDING_DIM=300 # The dimension of the embeddings\n",
    "\n",
    "tokenizer=Tokenizer(num_words=MAX_WORDS)\n",
    "tokenizer.fit_on_texts(x_train)\n",
    "word_index=tokenizer.word_index\n",
    "print(f'Found {len(word_index)} unique tokens.')\n",
    "\n",
    "sequences_train=tokenizer.texts_to_sequences(x_train)\n",
    "x_train_2d=pad_sequences(sequences_train,maxlen=MAXLEN)\n",
    "\n",
    "sequences_val=tokenizer.texts_to_sequences(x_val)\n",
    "x_val_2d=pad_sequences(sequences_val,maxlen=MAXLEN)\n",
    "\n",
    "sequences_test=tokenizer.texts_to_sequences(x_test)\n",
    "x_test_2d=pad_sequences(sequences_test,maxlen=MAXLEN)\n",
    "\n",
    "y_train=train_df['target'].values\n",
    "y_val=val_df['target'].values"
   ]
  },
  {
   "cell_type": "markdown",
   "metadata": {
    "_uuid": "2a6c224b7dd6e806ad983b52e4b17f6fb38a035c"
   },
   "source": [
    "#  Load pretrained embeddings\n",
    "Four pretrianed embeddings are available to use in this competition."
   ]
  },
  {
   "cell_type": "code",
   "execution_count": 9,
   "metadata": {
    "_uuid": "5d59b5a0c90b5f473f984b83c11d4c9c37801957"
   },
   "outputs": [
    {
     "name": "stdout",
     "output_type": "stream",
     "text": [
      "GoogleNews-vectors-negative300\tparagram_300_sl999\r\n",
      "glove.840B.300d\t\t\twiki-news-300d-1M\r\n"
     ]
    }
   ],
   "source": [
    "!ls ../input/quora-insincere-questions-classification/embeddings/"
   ]
  },
  {
   "cell_type": "markdown",
   "metadata": {
    "_uuid": "2c45ea1b0bd8cc8d4bc09bd37b1704aa017cdf0f"
   },
   "source": [
    "Import Glove, Fasttext and Para embeddings. "
   ]
  },
  {
   "cell_type": "code",
   "execution_count": 10,
   "metadata": {
    "_uuid": "8579efa28dbe7d607803c4c6c548adbd1869cd76"
   },
   "outputs": [
    {
     "name": "stdout",
     "output_type": "stream",
     "text": [
      "Found 2196016 word vectors\n"
     ]
    },
    {
     "name": "stderr",
     "output_type": "stream",
     "text": [
      "/opt/conda/lib/python3.6/site-packages/ipykernel_launcher.py:17: FutureWarning: arrays to stack must be passed as a \"sequence\" type such as list or tuple. Support for non-sequence iterables such as generators is deprecated as of NumPy 1.16 and will raise an error in the future.\n"
     ]
    },
    {
     "name": "stdout",
     "output_type": "stream",
     "text": [
      "Found 999994 word vectors\n",
      "Found 1703755 word vectors\n"
     ]
    }
   ],
   "source": [
    "EMBEDDING_FILE_Glove='../input/quora-insincere-questions-classification/embeddings/glove.840B.300d/glove.840B.300d.txt'\n",
    "EMBEDDING_FILE_Fasttext='../input/quora-insincere-questions-classification/embeddings/wiki-news-300d-1M/wiki-news-300d-1M.vec'\n",
    "EMBEDDING_FILE_Para='../input/quora-insincere-questions-classification/embeddings/paragram_300_sl999/paragram_300_sl999.txt'\n",
    "\n",
    "def load_embeddings(EMBEDDING_FILE,word_index):\n",
    "\n",
    "    def get_coefs(word,*arr): return word, np.asarray(arr, dtype='float32')    \n",
    "    \n",
    "    if EMBEDDING_FILE==EMBEDDING_FILE_Glove:\n",
    "        embeddings_index = dict(get_coefs(*o.split(\" \")) for o in open(EMBEDDING_FILE))\n",
    "    elif EMBEDDING_FILE==EMBEDDING_FILE_Fasttext:\n",
    "        embeddings_index = dict(get_coefs(*o.split(' ')) for o in open(EMBEDDING_FILE) if len(o)>100)\n",
    "    else:\n",
    "        embeddings_index = dict(get_coefs(*o.split(' ')) for o in open(EMBEDDING_FILE, encoding='utf8', errors='ignore') if len(o)>100)\n",
    "    print ('Found %s word vectors' % len(embeddings_index))\n",
    "\n",
    "    all_embs = np.stack(embeddings_index.values())\n",
    "    emb_mean,emb_std = all_embs.mean(), all_embs.std()\n",
    "    embeddings_size = all_embs.shape[1]\n",
    "\n",
    "    embedding_matrix = np.random.normal(emb_mean, emb_std, (MAX_WORDS,embeddings_size))#generate the embedding max with normal distribution \n",
    "    for word, i in word_index.items():\n",
    "        if i >= MAX_WORDS: continue\n",
    "        embedding_vector = embeddings_index.get(word)\n",
    "        if embedding_vector is not None: embedding_matrix[i] = embedding_vector# words not found in the embedding index will remain the initial values\n",
    "    \n",
    "    return embedding_matrix\n",
    "\n",
    "embeddings_matrix_glove=load_embeddings(EMBEDDING_FILE_Glove,word_index)\n",
    "embeddings_matrix_fasttext=load_embeddings(EMBEDDING_FILE_Fasttext,word_index)\n",
    "embeddings_matrix_para=load_embeddings(EMBEDDING_FILE_Para,word_index)"
   ]
  },
  {
   "cell_type": "markdown",
   "metadata": {
    "_uuid": "121164238a220c11dcf924d3f9cca18d18aa0ec4"
   },
   "source": [
    "# Prepare for the model\n",
    "**The attention mechanism** to overcome the limitation that allows the network to learn where to pay attention in the input sequence for each item in the output sequence."
   ]
  },
  {
   "cell_type": "code",
   "execution_count": 11,
   "metadata": {
    "_uuid": "4fb3768ea6b9e946968721d9e38d715a060754dc"
   },
   "outputs": [],
   "source": [
    "from keras.engine.topology import Layer\n",
    "class Attention(Layer):\n",
    "    def __init__(self, step_dim,\n",
    "                 W_regularizer=None, b_regularizer=None,\n",
    "                 W_constraint=None, b_constraint=None,\n",
    "                 bias=True, **kwargs):\n",
    "        self.supports_masking = True\n",
    "        self.init = initializers.get('glorot_uniform')\n",
    "\n",
    "        self.W_regularizer = regularizers.get(W_regularizer)\n",
    "        self.b_regularizer = regularizers.get(b_regularizer)\n",
    "\n",
    "        self.W_constraint = constraints.get(W_constraint)\n",
    "        self.b_constraint = constraints.get(b_constraint)\n",
    "\n",
    "        self.bias = bias\n",
    "        self.step_dim = step_dim\n",
    "        self.features_dim = 0\n",
    "        super(Attention, self).__init__(**kwargs)\n",
    "    \n",
    "    def build(self, input_shape):\n",
    "        assert len(input_shape) == 3\n",
    "\n",
    "        self.W = self.add_weight((input_shape[-1],),\n",
    "                                 initializer=self.init,\n",
    "                                 name='{}_W'.format(self.name),\n",
    "                                 regularizer=self.W_regularizer,\n",
    "                                 constraint=self.W_constraint)\n",
    "        self.features_dim = input_shape[-1]\n",
    "\n",
    "        if self.bias:\n",
    "            self.b = self.add_weight((input_shape[1],),\n",
    "                                     initializer='zero',\n",
    "                                     name='{}_b'.format(self.name),\n",
    "                                     regularizer=self.b_regularizer,\n",
    "                                     constraint=self.b_constraint)\n",
    "        else:\n",
    "            self.b = None\n",
    "\n",
    "        self.built = True\n",
    "\n",
    "    def compute_mask(self, input, input_mask=None):\n",
    "        return None\n",
    "    def call(self, x, mask=None):\n",
    "        features_dim = self.features_dim\n",
    "        step_dim = self.step_dim\n",
    "\n",
    "        eij = K.reshape(K.dot(K.reshape(x, (-1, features_dim)),\n",
    "                        K.reshape(self.W, (features_dim, 1))), (-1, step_dim))\n",
    "\n",
    "        if self.bias:\n",
    "            eij += self.b\n",
    "\n",
    "        eij = K.tanh(eij)\n",
    "\n",
    "        a = K.exp(eij)\n",
    "\n",
    "        if mask is not None:\n",
    "            a *= K.cast(mask, K.floatx())\n",
    "\n",
    "        a /= K.cast(K.sum(a, axis=1, keepdims=True) + K.epsilon(), K.floatx())\n",
    "\n",
    "        a = K.expand_dims(a)\n",
    "        weighted_input = x * a\n",
    "        return K.sum(weighted_input, axis=1)\n",
    "    \n",
    "    def compute_output_shape(self, input_shape):\n",
    "        return input_shape[0],  self.features_dim\n"
   ]
  },
  {
   "cell_type": "markdown",
   "metadata": {
    "_uuid": "84a3f47f15a1f50fdceb7af566d238e8144b4810"
   },
   "source": [
    "## Build the model with LSTM and Attention\n",
    "Since we don't care the direction of the quesitons, we will use the bidrectional LSTM and Attention layes to build the model. The construction of my NN model is as following."
   ]
  },
  {
   "cell_type": "code",
   "execution_count": 12,
   "metadata": {
    "_uuid": "027825aa3b77c0a2a488d3a9c74c41a8a926c0b7"
   },
   "outputs": [
    {
     "data": {
      "image/png": "[encoded data removed]",
      "text/plain": [
       "<IPython.core.display.Image object>"
      ]
     },
     "execution_count": 12,
     "metadata": {},
     "output_type": "execute_result"
    }
   ],
   "source": [
    "from IPython.display import Image\n",
    "Image(\"../input/picture/NN.png\")"
   ]
  },
  {
   "cell_type": "code",
   "execution_count": 13,
   "metadata": {
    "_uuid": "e11f28b7e438d5a25469b8d02531c5b68e2a1641"
   },
   "outputs": [],
   "source": [
    "from keras.layers import Dense, Input, CuDNNLSTM, Embedding, Dropout, Activation, CuDNNGRU, Conv1D\n",
    "from keras.layers import Bidirectional, GlobalMaxPool1D, GlobalMaxPooling1D, GlobalAveragePooling1D\n",
    "from keras.layers import Input, Embedding, Dense, Conv2D, MaxPool2D, concatenate, Lambda\n",
    "from keras.layers import Reshape, Flatten, Concatenate, Dropout, SpatialDropout1D\n",
    "from keras.optimizers import Adam\n",
    "from keras.models import Model\n",
    "from keras import backend as K\n",
    "from keras.engine.topology import Layer\n",
    "from keras import initializers, regularizers, constraints, optimizers, layers\n",
    "from keras.layers import concatenate\n",
    "\n",
    "def model_lstm_atten(embedding_matrix):\n",
    "    inp = Input(shape=(MAXLEN,))\n",
    "    x = Embedding(MAX_WORDS, EMBEDDING_DIM, weights=[embedding_matrix], trainable=False)(inp)\n",
    "    x = SpatialDropout1D(0.1)(x)\n",
    "    x = Bidirectional(CuDNNLSTM(40, return_sequences=True))(x)\n",
    "    y = Bidirectional(CuDNNGRU(40, return_sequences=True))(x)\n",
    "    \n",
    "    atten_1 = Attention(MAXLEN)(x)\n",
    "    atten_2 = Attention(MAXLEN)(y)\n",
    "    avg_pool = GlobalAveragePooling1D()(y)\n",
    "    max_pool = GlobalMaxPooling1D()(y)\n",
    "    \n",
    "    conc = concatenate([atten_1, atten_2, avg_pool, max_pool])\n",
    "    conc = Dense(16, activation='relu')(conc)\n",
    "    conc = Dropout(0.1)(conc)\n",
    "    outp = Dense(1, activation='sigmoid')(conc)    \n",
    "\n",
    "    model = Model(inputs=inp, outputs=outp)\n",
    "    model.compile(loss='binary_crossentropy', optimizer='adam', metrics=['acc'])\n",
    "    \n",
    "    return model"
   ]
  },
  {
   "cell_type": "markdown",
   "metadata": {
    "_uuid": "f11238d265691eeaca1f9d663d7502cd94770766"
   },
   "source": [
    "# Fit and predict"
   ]
  },
  {
   "cell_type": "markdown",
   "metadata": {
    "_uuid": "13dcac7a1a39c099006c974f67fdfd2fe01a6431"
   },
   "source": [
    "Fit the model with glove embeddings and predict the validation set. Print f1 score corrsponding to thresh from 0.1 to 0.501. "
   ]
  },
  {
   "cell_type": "code",
   "execution_count": 14,
   "metadata": {
    "_uuid": "ef47cbbaf092f458b6ab5a05f2f7c108584eb84a"
   },
   "outputs": [
    {
     "name": "stdout",
     "output_type": "stream",
     "text": [
      "Train on 1175509 samples, validate on 130613 samples\n",
      "Epoch 1/3\n",
      "1175509/1175509 [==============================] - 104s 88us/step - loss: 0.1199 - acc: 0.9537 - val_loss: 0.1043 - val_acc: 0.9578\n",
      "Epoch 2/3\n",
      "1175509/1175509 [==============================] - 101s 86us/step - loss: 0.1046 - acc: 0.9588 - val_loss: 0.1002 - val_acc: 0.9598\n",
      "Epoch 3/3\n",
      "1175509/1175509 [==============================] - 101s 86us/step - loss: 0.0999 - acc: 0.9603 - val_loss: 0.0985 - val_acc: 0.9604\n",
      "130613/130613 [==============================] - 3s 22us/step\n",
      "F1 score at threshold 0.1 is 0.6166983761780452\n",
      "F1 score at threshold 0.11 is 0.6249660295316605\n",
      "F1 score at threshold 0.12 is 0.6308879951925299\n",
      "F1 score at threshold 0.13 is 0.6369030799660921\n",
      "F1 score at threshold 0.14 is 0.6432102913646618\n",
      "F1 score at threshold 0.15 is 0.6474089977554406\n",
      "F1 score at threshold 0.16 is 0.6522148916116871\n",
      "F1 score at threshold 0.17 is 0.6564562446470855\n",
      "F1 score at threshold 0.18 is 0.6603271983640082\n",
      "F1 score at threshold 0.19 is 0.6635499454573788\n",
      "F1 score at threshold 0.2 is 0.6661043753294675\n",
      "F1 score at threshold 0.21 is 0.6692661040487128\n",
      "F1 score at threshold 0.22 is 0.6713559138621361\n",
      "F1 score at threshold 0.23 is 0.6745270085001371\n",
      "F1 score at threshold 0.24 is 0.6764477047904857\n",
      "F1 score at threshold 0.25 is 0.678357956467802\n",
      "F1 score at threshold 0.26 is 0.678090015992689\n",
      "F1 score at threshold 0.27 is 0.6775462962962961\n",
      "F1 score at threshold 0.28 is 0.6772548789779054\n",
      "F1 score at threshold 0.29 is 0.6771074331138398\n",
      "F1 score at threshold 0.3 is 0.6763099453814297\n",
      "F1 score at threshold 0.31 is 0.6746856205576818\n",
      "F1 score at threshold 0.32 is 0.6730248584789564\n",
      "F1 score at threshold 0.33 is 0.6727204876228386\n",
      "F1 score at threshold 0.34 is 0.6711038553309056\n",
      "F1 score at threshold 0.35 is 0.6703415066844073\n",
      "F1 score at threshold 0.36 is 0.6680314759132493\n",
      "F1 score at threshold 0.37 is 0.6656762692158635\n",
      "F1 score at threshold 0.38 is 0.6629272110618315\n",
      "F1 score at threshold 0.39 is 0.6593016374038273\n",
      "F1 score at threshold 0.4 is 0.656896551724138\n",
      "F1 score at threshold 0.41 is 0.6550340954673085\n",
      "F1 score at threshold 0.42 is 0.6537085779847474\n",
      "F1 score at threshold 0.43 is 0.6509093386009127\n",
      "F1 score at threshold 0.44 is 0.6492650089297981\n",
      "F1 score at threshold 0.45 is 0.6460281182907402\n",
      "F1 score at threshold 0.46 is 0.6420391061452514\n",
      "F1 score at threshold 0.47 is 0.6390490926993952\n",
      "F1 score at threshold 0.48 is 0.6361702127659575\n",
      "F1 score at threshold 0.49 is 0.6313756348808929\n",
      "F1 score at threshold 0.5 is 0.6272727272727272\n"
     ]
    }
   ],
   "source": [
    "from sklearn import metrics\n",
    "model_glove=model_lstm_atten(embeddings_matrix_glove)\n",
    "model_glove.fit(x_train_2d,y_train,\n",
    "                   epochs=3,\n",
    "                   batch_size=512,\n",
    "                   validation_data=(x_val_2d, y_val))\n",
    "pred_val_glove = model_glove.predict([x_val_2d], batch_size=1024, verbose=1)\n",
    "for thresh in np.arange(0.1, 0.501, 0.01):\n",
    "    thresh = np.round(thresh, 2)\n",
    "    print(\"F1 score at threshold {0} is {1}\".format(thresh, metrics.f1_score(y_val, (pred_val_glove>thresh).astype(int))))"
   ]
  },
  {
   "cell_type": "code",
   "execution_count": 15,
   "metadata": {
    "_uuid": "4bb2a96aaee6e6a272dad37d0c82337fcf5d9e2b"
   },
   "outputs": [
    {
     "name": "stdout",
     "output_type": "stream",
     "text": [
      "375806/375806 [==============================] - 8s 20us/step\n"
     ]
    },
    {
     "data": {
      "text/plain": [
       "125"
      ]
     },
     "execution_count": 15,
     "metadata": {},
     "output_type": "execute_result"
    }
   ],
   "source": [
    "pred_test_glove = model_glove.predict([x_test_2d], batch_size=1024, verbose=1)\n",
    "del embeddings_matrix_glove, model_glove\n",
    "import gc; gc.collect()\n"
   ]
  },
  {
   "cell_type": "markdown",
   "metadata": {
    "_uuid": "06fdb8893bb5e7b0e019f4e95610f15853e691eb"
   },
   "source": [
    "Fit the model with para embeddings and predict the validation set. Print f1 score corresponding to thresh from 0.1 to 0.501. "
   ]
  },
  {
   "cell_type": "code",
   "execution_count": 16,
   "metadata": {
    "_uuid": "b9d7bd6c39f61b7297acfc76a9068e26b1d1381d"
   },
   "outputs": [
    {
     "name": "stdout",
     "output_type": "stream",
     "text": [
      "Train on 1175509 samples, validate on 130613 samples\n",
      "Epoch 1/3\n",
      "1175509/1175509 [==============================] - 101s 86us/step - loss: 0.1231 - acc: 0.9527 - val_loss: 0.1067 - val_acc: 0.9573\n",
      "Epoch 2/3\n",
      "1175509/1175509 [==============================] - 101s 86us/step - loss: 0.1062 - acc: 0.9581 - val_loss: 0.1035 - val_acc: 0.9589\n",
      "Epoch 3/3\n",
      "1175509/1175509 [==============================] - 101s 86us/step - loss: 0.1004 - acc: 0.9602 - val_loss: 0.1017 - val_acc: 0.9607\n",
      "130613/130613 [==============================] - 3s 22us/step\n",
      "F1 score at threshold 0.1 is 0.6192902638762511\n",
      "F1 score at threshold 0.11 is 0.626044180434379\n",
      "F1 score at threshold 0.12 is 0.6319519916835987\n",
      "F1 score at threshold 0.13 is 0.6372039283651069\n",
      "F1 score at threshold 0.14 is 0.6428396812203588\n",
      "F1 score at threshold 0.15 is 0.6478523955956751\n",
      "F1 score at threshold 0.16 is 0.6518786781349026\n",
      "F1 score at threshold 0.17 is 0.654436120878561\n",
      "F1 score at threshold 0.18 is 0.6576446280991735\n",
      "F1 score at threshold 0.19 is 0.6601160298959912\n",
      "F1 score at threshold 0.2 is 0.6620382638189622\n",
      "F1 score at threshold 0.21 is 0.6633467202141902\n",
      "F1 score at threshold 0.22 is 0.6650782476850597\n",
      "F1 score at threshold 0.23 is 0.666703212367065\n",
      "F1 score at threshold 0.24 is 0.668218085106383\n",
      "F1 score at threshold 0.25 is 0.6681234941446742\n",
      "F1 score at threshold 0.26 is 0.6687057490795808\n",
      "F1 score at threshold 0.27 is 0.6692615912993704\n",
      "F1 score at threshold 0.28 is 0.6697949252693778\n",
      "F1 score at threshold 0.29 is 0.6701380762930027\n",
      "F1 score at threshold 0.3 is 0.6703316190813974\n",
      "F1 score at threshold 0.31 is 0.6693711967545638\n",
      "F1 score at threshold 0.32 is 0.6687560270009644\n",
      "F1 score at threshold 0.33 is 0.667883655835463\n",
      "F1 score at threshold 0.34 is 0.6668713163064833\n",
      "F1 score at threshold 0.35 is 0.6664187891181755\n",
      "F1 score at threshold 0.36 is 0.6647492809803677\n",
      "F1 score at threshold 0.37 is 0.6633912824389014\n",
      "F1 score at threshold 0.38 is 0.6634548335974644\n",
      "F1 score at threshold 0.39 is 0.662412252712189\n",
      "F1 score at threshold 0.4 is 0.6609624292331446\n",
      "F1 score at threshold 0.41 is 0.6597898014791749\n",
      "F1 score at threshold 0.42 is 0.6580771746239372\n",
      "F1 score at threshold 0.43 is 0.6572237960339944\n",
      "F1 score at threshold 0.44 is 0.6561919915141872\n",
      "F1 score at threshold 0.45 is 0.6530694128661227\n",
      "F1 score at threshold 0.46 is 0.6516899413074276\n",
      "F1 score at threshold 0.47 is 0.648968756381458\n",
      "F1 score at threshold 0.48 is 0.6457417582417583\n",
      "F1 score at threshold 0.49 is 0.6439173255652657\n",
      "F1 score at threshold 0.5 is 0.640722334989851\n"
     ]
    }
   ],
   "source": [
    "model_para=model_lstm_atten(embeddings_matrix_para)\n",
    "model_para.fit(x_train_2d,y_train,\n",
    "                   epochs=3,\n",
    "                   batch_size=512,\n",
    "                   validation_data=(x_val_2d, y_val))\n",
    "pred_val_para = model_para.predict([x_val_2d], batch_size=1024, verbose=1)\n",
    "for thresh in np.arange(0.1, 0.501, 0.01):\n",
    "    thresh = np.round(thresh, 2)\n",
    "    print(\"F1 score at threshold {0} is {1}\".format(thresh, metrics.f1_score(y_val, (pred_val_para>thresh).astype(int))))\n"
   ]
  },
  {
   "cell_type": "code",
   "execution_count": 17,
   "metadata": {
    "_uuid": "c5a7aa062ed031e1cc1bbca60b820b4f6773513f"
   },
   "outputs": [
    {
     "name": "stdout",
     "output_type": "stream",
     "text": [
      "375806/375806 [==============================] - 8s 20us/step\n"
     ]
    },
    {
     "data": {
      "text/plain": [
       "125"
      ]
     },
     "execution_count": 17,
     "metadata": {},
     "output_type": "execute_result"
    }
   ],
   "source": [
    "pred_test_para = model_para.predict([x_test_2d], batch_size=1024, verbose=1)\n",
    "del embeddings_matrix_para, model_para\n",
    "import gc; gc.collect()"
   ]
  },
  {
   "cell_type": "markdown",
   "metadata": {
    "_uuid": "01c06d1ba433aa01d0c37825ce6c260e58e051f9"
   },
   "source": [
    "According to the printed f1-thresh data, use 0.35 as the thresh to turn the probabilities of output into binary output. Ensemble the outputs of the above two trained models as the final output to submit."
   ]
  },
  {
   "cell_type": "code",
   "execution_count": 18,
   "metadata": {
    "_uuid": "c778857c78d77f75611ab0bebcf1b5e383b0495b"
   },
   "outputs": [
    {
     "data": {
      "text/plain": [
       "(array([352459.,      0.,      0.,      0.,      0.,      0.,      0.,\n",
       "             0.,      0.,  23347.]),\n",
       " array([0. , 0.1, 0.2, 0.3, 0.4, 0.5, 0.6, 0.7, 0.8, 0.9, 1. ]),\n",
       " <a list of 10 Patch objects>)"
      ]
     },
     "execution_count": 18,
     "metadata": {},
     "output_type": "execute_result"
    },
    {
     "data": {
      "image/png": "[encoded data removed]",
      "text/plain": [
       "<Figure size 432x288 with 1 Axes>"
      ]
     },
     "metadata": {},
     "output_type": "display_data"
    }
   ],
   "source": [
    "pred_test=0.6*pred_test_glove+0.4*pred_test_para\n",
    "pred_test=(pred_test>0.35).astype(int)\n",
    "plt.hist(pred_test)"
   ]
  },
  {
   "cell_type": "code",
   "execution_count": 19,
   "metadata": {
    "_uuid": "24e0eab33ed8e9f0d4e6dab090c268200a46c168"
   },
   "outputs": [],
   "source": [
    "test_df['prediction']=pred_test\n",
    "test_df=test_df.drop(['question_text'],axis=1)\n",
    "test_df.to_csv(\"submission.csv\",index=False)"
   ]
  },
  {
   "cell_type": "markdown",
   "metadata": {
    "_uuid": "8fefd9302a97048306a65aacccfe4ec0434e5e5b"
   },
   "source": [
    "# Further thoughts\n",
    "After I learned some top rank solutions, I think some skills like the followings could be applied to imporve the performance:<br>\n",
    "1) Simplify the RNN model<br>\n",
    "2) Keep all the tokens from raw text, that should sacrifice the running speed<br>\n",
    "3) Ensemble the embeddings by concatenate them instead of averaging them or weighting them. In another words, increase the embedding size.<br>\n",
    "4) Use variety of stemmer to clean the text<br>"
   ]
  }
 ],
 "metadata": {
  "kernelspec": {
   "display_name": "Python 3",
   "language": "python",
   "name": "python3"
  },
  "language_info": {
   "codemirror_mode": {
    "name": "ipython",
    "version": 3
   },
   "file_extension": ".py",
   "mimetype": "text/x-python",
   "name": "python",
   "nbconvert_exporter": "python",
   "pygments_lexer": "ipython3",
   "version": "3.6.6"
  }
 },
 "nbformat": 4,
 "nbformat_minor": 1
}
